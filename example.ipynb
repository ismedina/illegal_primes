{
 "cells": [
  {
   "cell_type": "code",
   "execution_count": 11,
   "metadata": {},
   "outputs": [],
   "source": [
    "from decoding import *"
   ]
  },
  {
   "cell_type": "markdown",
   "metadata": {},
   "source": [
    "This is an example on how to decode files into numbers and viceversa.\n",
    "\n",
    "# Encode file into number and save it to a file"
   ]
  },
  {
   "cell_type": "code",
   "execution_count": 5,
   "metadata": {},
   "outputs": [],
   "source": [
    "filename = 'some_code.py'\n",
    "a = encode_file(filename)\n",
    "\n",
    "with open(\"numbers/number.txt\",'w') as f:\n",
    "    f.write(str(a))"
   ]
  },
  {
   "cell_type": "markdown",
   "metadata": {},
   "source": [
    "# Decode number to file"
   ]
  },
  {
   "cell_type": "code",
   "execution_count": 9,
   "metadata": {},
   "outputs": [
    {
     "data": {
      "text/plain": [
       "7313727396672561874029181076932705358833165469697923727338840309227456355162606770789776452370390813043309708465913694972988719827420473295995227154082618952489580127777329200538125503450090223229692990957887831588435073525324075990693398816218882622135997601378432392558955803204273805179312899060014553169091886560515507339057261239399922580546152802455610213564829559084905700986397294133608025694837538206332636522089476950527774049827202297396901157131008445601632235955053458667609444235424185809152367463333612030709439172683851824668123236426087832205486298516994876831140812232838290932827905146130669338160687290238551551224543985252431565052035484589250165611052775767428863202405786648470669138275956777870743689263575335735843436406740766644391222877011483044883141534759189185371279463906908690411872882055844605773632949431518517464233200959004997578310548196188514807210601156748624368973578573451269934748494944719745574509490537638996765430244086353714848810387738501484723752827913351454537478277870535999365673"
      ]
     },
     "execution_count": 9,
     "metadata": {},
     "output_type": "execute_result"
    }
   ],
   "source": [
    "with open(\"numbers/number.txt\",'r') as f:\n",
    "    number = int(f.read())\n",
    "number"
   ]
  },
  {
   "cell_type": "code",
   "execution_count": 8,
   "metadata": {},
   "outputs": [
    {
     "name": "stdout",
     "output_type": "stream",
     "text": [
      "3f781483e4cc474872ba5dd6828d94e5bd8a8904  some_code.py\r\n",
      "3f781483e4cc474872ba5dd6828d94e5bd8a8904  numbers/program\r\n"
     ]
    }
   ],
   "source": [
    "filename_new = \"numbers/program\"\n",
    "decode_number(a,filename_new)\n",
    "\n",
    "! sha1sum $filename $filename_new # check that both files are the same"
   ]
  },
  {
   "cell_type": "markdown",
   "metadata": {},
   "source": [
    "# Give execution permission to the file and run\n",
    "\n",
    "We do it like this to be completely general and work for any executable file, regardless of the language it is written in (as long as it is prepared to be executable, see https://en.wikipedia.org/wiki/Shebang_(Unix) for scripting languages)."
   ]
  },
  {
   "cell_type": "code",
   "execution_count": 7,
   "metadata": {},
   "outputs": [
    {
     "name": "stdout",
     "output_type": "stream",
     "text": [
      "\r\n",
      "       xxxxxxxxxxxxxxxxxxxxxxxxxxxxx\r\n",
      "       xxxxxxx               xxxxxxx\r\n",
      "       xxxxx                   xxxxx\r\n",
      "       xxx                       xxx\r\n",
      "       xx                         xx\r\n",
      "       x                           x\r\n",
      "       x      THIS IS A VIRUS      x\r\n",
      "       x                           x\r\n",
      "       x      SEND ME BITCOIN      x\r\n",
      "       x                           x\r\n",
      "       xx                         xx\r\n",
      "       xxx                       xxx\r\n",
      "       xxxxx                   xxxxx\r\n",
      "       xxxxxxx               xxxxxxx\r\n",
      "       xxxxxxxxxxxxxxxxxxxxxxxxxxxxx\r\n",
      "\r\n"
     ]
    }
   ],
   "source": [
    "! chmod +x \"program\"  # give execution permission ()\n",
    "! ./program           # run"
   ]
  },
  {
   "cell_type": "code",
   "execution_count": null,
   "metadata": {},
   "outputs": [],
   "source": []
  }
 ],
 "metadata": {
  "kernelspec": {
   "display_name": "Python 3",
   "language": "python",
   "name": "python3"
  },
  "language_info": {
   "codemirror_mode": {
    "name": "ipython",
    "version": 3
   },
   "file_extension": ".py",
   "mimetype": "text/x-python",
   "name": "python",
   "nbconvert_exporter": "python",
   "pygments_lexer": "ipython3",
   "version": "3.7.4"
  }
 },
 "nbformat": 4,
 "nbformat_minor": 4
}
