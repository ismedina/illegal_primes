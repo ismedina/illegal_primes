{
 "cells": [
  {
   "cell_type": "code",
   "execution_count": 58,
   "metadata": {},
   "outputs": [],
   "source": [
    "from decoding import *"
   ]
  },
  {
   "cell_type": "markdown",
   "metadata": {},
   "source": [
    "# Encode file into number"
   ]
  },
  {
   "cell_type": "code",
   "execution_count": 59,
   "metadata": {},
   "outputs": [
    {
     "name": "stdout",
     "output_type": "stream",
     "text": [
      "73137273966725618740291810769327053588331654696979237273388403092274563551626067\n",
      "70789776452370390813043309708465913694972988719827420473295995227154082618952489\n",
      "58012777732920053812550345009022322969299095788783158843507352532407599069339881\n",
      "62188826221359976013784323925589558032042738051793128990600145531690918865605155\n",
      "07339057261239399922580546152802455610213564829559084905700986397294133608025694\n",
      "83753820633263652208947695052777404982720229739690115713100844560163223595505345\n",
      "86676094442354241858091523674633336120307094391726838518246681232364260878322054\n",
      "86298516994876831140812232838290932827905146130669338160687290238551551224543985\n",
      "25243156505203548458925016561105277576742886320240578664847066913827595677787074\n",
      "36892635753357358434364067407666443912228770114830448831415347591891853712794639\n",
      "06908690411872882055844605773632949431518517464233200959004997578310548196188514\n",
      "80721060115674862436897357857345126993474849494471974557450949053763899676543024\n",
      "4086353714848810387738501484723752827913351454537478277870535999365673\n"
     ]
    }
   ],
   "source": [
    "filename = 'some_code.py'\n",
    "a = encode_file(filename)\n",
    "\n",
    "print_number(a)"
   ]
  },
  {
   "cell_type": "markdown",
   "metadata": {},
   "source": [
    "# Decode number to file"
   ]
  },
  {
   "cell_type": "code",
   "execution_count": 60,
   "metadata": {},
   "outputs": [
    {
     "name": "stdout",
     "output_type": "stream",
     "text": [
      "3f781483e4cc474872ba5dd6828d94e5bd8a8904  some_code.py\r\n",
      "3f781483e4cc474872ba5dd6828d94e5bd8a8904  program\r\n"
     ]
    }
   ],
   "source": [
    "filename_new = \"program\"\n",
    "decode_number(a,filename_new)\n",
    "\n",
    "! sha1sum $filename $filename_new # check if both files are the same\n",
    "! chmod +x \"program\" # give execution permission"
   ]
  },
  {
   "cell_type": "code",
   "execution_count": 61,
   "metadata": {},
   "outputs": [
    {
     "name": "stdout",
     "output_type": "stream",
     "text": [
      "\r\n",
      "       xxxxxxxxxxxxxxxxxxxxxxxxxxxxx\r\n",
      "       xxxxxxx               xxxxxxx\r\n",
      "       xxxxx                   xxxxx\r\n",
      "       xxx                       xxx\r\n",
      "       xx                         xx\r\n",
      "       x                           x\r\n",
      "       x      THIS IS A VIRUS      x\r\n",
      "       x                           x\r\n",
      "       x      SEND ME BITCOIN      x\r\n",
      "       x                           x\r\n",
      "       xx                         xx\r\n",
      "       xxx                       xxx\r\n",
      "       xxxxx                   xxxxx\r\n",
      "       xxxxxxx               xxxxxxx\r\n",
      "       xxxxxxxxxxxxxxxxxxxxxxxxxxxxx\r\n",
      "\r\n"
     ]
    }
   ],
   "source": [
    "! ./program"
   ]
  },
  {
   "cell_type": "code",
   "execution_count": null,
   "metadata": {},
   "outputs": [],
   "source": []
  }
 ],
 "metadata": {
  "kernelspec": {
   "display_name": "Python 3",
   "language": "python",
   "name": "python3"
  },
  "language_info": {
   "codemirror_mode": {
    "name": "ipython",
    "version": 3
   },
   "file_extension": ".py",
   "mimetype": "text/x-python",
   "name": "python",
   "nbconvert_exporter": "python",
   "pygments_lexer": "ipython3",
   "version": "3.6.8"
  }
 },
 "nbformat": 4,
 "nbformat_minor": 4
}
